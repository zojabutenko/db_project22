{
 "cells": [
  {
   "cell_type": "code",
   "execution_count": 50,
   "metadata": {},
   "outputs": [],
   "source": [
    "import sqlite3\n",
    "con = sqlite3.connect(\"blog.db\")"
   ]
  },
  {
   "cell_type": "code",
   "execution_count": 51,
   "metadata": {},
   "outputs": [],
   "source": [
    "cur = con.cursor()"
   ]
  },
  {
   "cell_type": "code",
   "execution_count": 52,
   "metadata": {
    "scrolled": true
   },
   "outputs": [
    {
     "data": {
      "text/plain": [
       "('Иррациональное желание купить айфон, но зачем? У меня же мой телефон спокойно пашет и выполняет все функции',)"
      ]
     },
     "execution_count": 52,
     "metadata": {},
     "output_type": "execute_result"
    }
   ],
   "source": [
    "res = cur.execute(\"\"\"\n",
    "SELECT text FROM Post\n",
    "\"\"\")\n",
    "res.fetchone()"
   ]
  },
  {
   "cell_type": "markdown",
   "metadata": {},
   "source": [
    "Where с объединением трех таблиц в where"
   ]
  },
  {
   "cell_type": "markdown",
   "metadata": {},
   "source": [
    " Какие посты были опубликованы с темой \"наука\"?"
   ]
  },
  {
   "cell_type": "code",
   "execution_count": 61,
   "metadata": {},
   "outputs": [],
   "source": [
    "res1 = cur.execute(\"\"\"\n",
    "SELECT text\n",
    "FROM post\n",
    "JOIN posttext ON post.id = posttext.post_id\n",
    "JOIN topics ON posttext.topic_id = topics.topic_id\n",
    "WHERE topic_name = 'Наука'\n",
    "\"\"\")"
   ]
  },
  {
   "cell_type": "code",
   "execution_count": 62,
   "metadata": {
    "scrolled": false
   },
   "outputs": [
    {
     "data": {
      "text/plain": [
       "[('Человеческая речь могла возникнуть из-за того, что руки были заняты. Так считает ученый, который сравнил вокальный репертуар орангутанов, шимпанзе и горилл. Оказалось, что самые древесные из них — орангутаны — издают больше всего согласных звуков: разных щелчков и причмокиваний',),\n",
       " ('Пара американских физиков придумала новый охладительный цикл, названный ионокалорическим. Рабочее тело в таком холодильнике плавится и твердеет (то есть, охлаждает и греет) в зависимости от концентрации в нем ионов соли, которыми можно управлять приложенным напряжением',),\n",
       " ('Археологи представили новые доказательства того, что первые американцы оказались к югу от ледниковых щитов как минимум 16 тысяч лет назад. К такому выводу они пришли, проанализировав находки со стоянки Куперс-Ферри. Видимо, эти люди продвигались на юг по тихоокеанскому маршруту',),\n",
       " ('Осенью прошлого года мы рассказывали, что дрон впервые доставил человеческие легкие для трансплантации. Теперь канадские ученые опубликовали результаты этой работы в журнале Science Robotics',)]"
      ]
     },
     "execution_count": 62,
     "metadata": {},
     "output_type": "execute_result"
    }
   ],
   "source": [
    "res1.fetchall()"
   ]
  },
  {
   "cell_type": "markdown",
   "metadata": {},
   "source": [
    "Агрегация"
   ]
  },
  {
   "cell_type": "markdown",
   "metadata": {},
   "source": [
    "Какая средняя длина поста в бд?"
   ]
  },
  {
   "cell_type": "code",
   "execution_count": 69,
   "metadata": {},
   "outputs": [],
   "source": [
    "res2 = cur.execute(\"\"\"\n",
    "SELECT \n",
    "AVG(text_length)\n",
    "FROM posttext\n",
    "\"\"\")"
   ]
  },
  {
   "cell_type": "code",
   "execution_count": 70,
   "metadata": {
    "scrolled": true
   },
   "outputs": [
    {
     "data": {
      "text/plain": [
       "[(210.5,)]"
      ]
     },
     "execution_count": 70,
     "metadata": {},
     "output_type": "execute_result"
    }
   ],
   "source": [
    "res2.fetchall()"
   ]
  },
  {
   "cell_type": "markdown",
   "metadata": {},
   "source": [
    "Какая средняя длина поста для каждого автора?"
   ]
  },
  {
   "cell_type": "code",
   "execution_count": 89,
   "metadata": {
    "scrolled": false
   },
   "outputs": [],
   "source": [
    "res3 = cur.execute(\"\"\"\n",
    "SELECT author_username,\n",
    "AVG(posttext.text_length)\n",
    "FROM post\n",
    "JOIN posttext ON post.id = posttext.post_id\n",
    "GROUP BY author_username\n",
    "\"\"\")"
   ]
  },
  {
   "cell_type": "code",
   "execution_count": 90,
   "metadata": {
    "scrolled": true
   },
   "outputs": [
    {
     "data": {
      "text/plain": [
       "[('HeyTarantino', 279.0),\n",
       " ('NevskyAlexandr', 277.0),\n",
       " ('PisateliFilosof', 261.0),\n",
       " ('Shoma_ves', 107.0),\n",
       " ('Vladimi03721352', 213.0),\n",
       " ('Xudozhnikipoeti', 127.0),\n",
       " ('chyngyzstan', 253.0),\n",
       " ('comicessamsa', 265.0),\n",
       " ('deboshinina', 108.0),\n",
       " ('ed_jihad', 280.0),\n",
       " ('kozmicpilgrim', 121.0),\n",
       " ('linagounohhh', 271.0),\n",
       " ('mvxiivi', 70.0),\n",
       " ('nplusodin', 253.75),\n",
       " ('nucl0id', 270.0),\n",
       " ('playdtf', 193.0),\n",
       " ('sportsru', 100.0)]"
      ]
     },
     "execution_count": 90,
     "metadata": {},
     "output_type": "execute_result"
    }
   ],
   "source": [
    "res3.fetchall()"
   ]
  },
  {
   "cell_type": "markdown",
   "metadata": {},
   "source": [
    "Вложенный select"
   ]
  },
  {
   "cell_type": "markdown",
   "metadata": {},
   "source": [
    "Какой пост имеет максимальную длину?"
   ]
  },
  {
   "cell_type": "code",
   "execution_count": 100,
   "metadata": {},
   "outputs": [],
   "source": [
    "res4 = cur.execute(\"\"\"\n",
    "SELECT post_text, text_length\n",
    "FROM posttext\n",
    "WHERE text_length = (\n",
    "SELECT MAX(text_length)\n",
    "FROM posttext)\n",
    "\"\"\")"
   ]
  },
  {
   "cell_type": "code",
   "execution_count": 101,
   "metadata": {
    "scrolled": true
   },
   "outputs": [
    {
     "data": {
      "text/plain": [
       "[('Гуриев дал интервью BILD. Что он там сказал, вы не поверите. Оказывается, экономика планеты уже потеряла триллион долларов ВВП. Причина - одна бензоколонка напала на одну ферму. И весь мир рушится. У меня один вопрос. Если запад потерял триллион, то кто его нашел? И где моя доля?',\n",
       "  280)]"
      ]
     },
     "execution_count": 101,
     "metadata": {},
     "output_type": "execute_result"
    }
   ],
   "source": [
    "res4.fetchall()"
   ]
  }
 ],
 "metadata": {
  "kernelspec": {
   "display_name": "Python 3",
   "language": "python",
   "name": "python3"
  },
  "language_info": {
   "codemirror_mode": {
    "name": "ipython",
    "version": 3
   },
   "file_extension": ".py",
   "mimetype": "text/x-python",
   "name": "python",
   "nbconvert_exporter": "python",
   "pygments_lexer": "ipython3",
   "version": "3.7.4"
  }
 },
 "nbformat": 4,
 "nbformat_minor": 4
}
